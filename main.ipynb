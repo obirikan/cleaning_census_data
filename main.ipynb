{
 "cells": [
  {
   "cell_type": "markdown",
   "id": "4b0ba94a",
   "metadata": {},
   "source": [
    "## Importing Libries"
   ]
  },
  {
   "cell_type": "code",
   "execution_count": 81,
   "id": "5e6ea01a",
   "metadata": {},
   "outputs": [],
   "source": [
    "import numpy as numpy\n",
    "import pandas as pd\n",
    "import glob #pip install pandas numpy scikit-learn missingno\n",
    "import missingno as msno\n",
    "from sklearn.impute import SimpleImputer\n",
    "import seaborn as sns\n",
    "from sklearn.preprocessing import LabelEncoder\n",
    "import matplotlib.pyplot as plt \n",
    "\n",
    "states=glob.glob('dataset/states*')"
   ]
  },
  {
   "cell_type": "markdown",
   "id": "40611c44",
   "metadata": {},
   "source": [
    "## Combine all data"
   ]
  },
  {
   "cell_type": "code",
   "execution_count": 82,
   "id": "ace86f08",
   "metadata": {},
   "outputs": [
    {
     "data": {
      "application/vnd.microsoft.datawrangler.viewer.v0+json": {
       "columns": [
        {
         "name": "index",
         "rawType": "int64",
         "type": "integer"
        },
        {
         "name": "Unnamed: 0",
         "rawType": "int64",
         "type": "integer"
        },
        {
         "name": "State",
         "rawType": "object",
         "type": "string"
        },
        {
         "name": "TotalPop",
         "rawType": "int64",
         "type": "integer"
        },
        {
         "name": "Hispanic",
         "rawType": "object",
         "type": "string"
        },
        {
         "name": "White",
         "rawType": "object",
         "type": "string"
        },
        {
         "name": "Black",
         "rawType": "object",
         "type": "string"
        },
        {
         "name": "Native",
         "rawType": "object",
         "type": "string"
        },
        {
         "name": "Asian",
         "rawType": "object",
         "type": "string"
        },
        {
         "name": "Pacific",
         "rawType": "object",
         "type": "string"
        },
        {
         "name": "Income",
         "rawType": "object",
         "type": "string"
        },
        {
         "name": "GenderPop",
         "rawType": "object",
         "type": "string"
        }
       ],
       "ref": "47f217f7-834b-4603-b545-87d16ad81876",
       "rows": [
        [
         "0",
         "0",
         "Rhode Island",
         "1053661",
         "13.36%",
         "74.33%",
         "5.68%",
         "0.35%",
         "3.25%",
         "0.04%",
         "$59,125.27 ",
         "510388M_543273F"
        ],
        [
         "1",
         "1",
         "South Carolina",
         "4777576",
         "5.06%",
         "62.89%",
         "28.75%",
         "0.29%",
         "1.25%",
         "0.05%",
         "$46,296.81 ",
         "2322409M_2455167F"
        ],
        [
         "2",
         "2",
         "South Dakota",
         "843190",
         "3.24%",
         "82.50%",
         "1.42%",
         "9.42%",
         "1.02%",
         "0.04%",
         "$51,805.41 ",
         "423477M_419713F"
        ],
        [
         "3",
         "3",
         "Tennessee",
         "6499615",
         "4.72%",
         "73.49%",
         "18.28%",
         "0.23%",
         "1.41%",
         "0.04%",
         "$47,328.08 ",
         "3167756M_3331859F"
        ],
        [
         "4",
         "4",
         "Texas",
         "26538614",
         "38.05%",
         "44.69%",
         "11.65%",
         "0.26%",
         "3.67%",
         "0.07%",
         "$55,874.52 ",
         "13171316M_13367298F"
        ]
       ],
       "shape": {
        "columns": 11,
        "rows": 5
       }
      },
      "text/html": [
       "<div>\n",
       "<style scoped>\n",
       "    .dataframe tbody tr th:only-of-type {\n",
       "        vertical-align: middle;\n",
       "    }\n",
       "\n",
       "    .dataframe tbody tr th {\n",
       "        vertical-align: top;\n",
       "    }\n",
       "\n",
       "    .dataframe thead th {\n",
       "        text-align: right;\n",
       "    }\n",
       "</style>\n",
       "<table border=\"1\" class=\"dataframe\">\n",
       "  <thead>\n",
       "    <tr style=\"text-align: right;\">\n",
       "      <th></th>\n",
       "      <th>Unnamed: 0</th>\n",
       "      <th>State</th>\n",
       "      <th>TotalPop</th>\n",
       "      <th>Hispanic</th>\n",
       "      <th>White</th>\n",
       "      <th>Black</th>\n",
       "      <th>Native</th>\n",
       "      <th>Asian</th>\n",
       "      <th>Pacific</th>\n",
       "      <th>Income</th>\n",
       "      <th>GenderPop</th>\n",
       "    </tr>\n",
       "  </thead>\n",
       "  <tbody>\n",
       "    <tr>\n",
       "      <th>0</th>\n",
       "      <td>0</td>\n",
       "      <td>Rhode Island</td>\n",
       "      <td>1053661</td>\n",
       "      <td>13.36%</td>\n",
       "      <td>74.33%</td>\n",
       "      <td>5.68%</td>\n",
       "      <td>0.35%</td>\n",
       "      <td>3.25%</td>\n",
       "      <td>0.04%</td>\n",
       "      <td>$59,125.27</td>\n",
       "      <td>510388M_543273F</td>\n",
       "    </tr>\n",
       "    <tr>\n",
       "      <th>1</th>\n",
       "      <td>1</td>\n",
       "      <td>South Carolina</td>\n",
       "      <td>4777576</td>\n",
       "      <td>5.06%</td>\n",
       "      <td>62.89%</td>\n",
       "      <td>28.75%</td>\n",
       "      <td>0.29%</td>\n",
       "      <td>1.25%</td>\n",
       "      <td>0.05%</td>\n",
       "      <td>$46,296.81</td>\n",
       "      <td>2322409M_2455167F</td>\n",
       "    </tr>\n",
       "    <tr>\n",
       "      <th>2</th>\n",
       "      <td>2</td>\n",
       "      <td>South Dakota</td>\n",
       "      <td>843190</td>\n",
       "      <td>3.24%</td>\n",
       "      <td>82.50%</td>\n",
       "      <td>1.42%</td>\n",
       "      <td>9.42%</td>\n",
       "      <td>1.02%</td>\n",
       "      <td>0.04%</td>\n",
       "      <td>$51,805.41</td>\n",
       "      <td>423477M_419713F</td>\n",
       "    </tr>\n",
       "    <tr>\n",
       "      <th>3</th>\n",
       "      <td>3</td>\n",
       "      <td>Tennessee</td>\n",
       "      <td>6499615</td>\n",
       "      <td>4.72%</td>\n",
       "      <td>73.49%</td>\n",
       "      <td>18.28%</td>\n",
       "      <td>0.23%</td>\n",
       "      <td>1.41%</td>\n",
       "      <td>0.04%</td>\n",
       "      <td>$47,328.08</td>\n",
       "      <td>3167756M_3331859F</td>\n",
       "    </tr>\n",
       "    <tr>\n",
       "      <th>4</th>\n",
       "      <td>4</td>\n",
       "      <td>Texas</td>\n",
       "      <td>26538614</td>\n",
       "      <td>38.05%</td>\n",
       "      <td>44.69%</td>\n",
       "      <td>11.65%</td>\n",
       "      <td>0.26%</td>\n",
       "      <td>3.67%</td>\n",
       "      <td>0.07%</td>\n",
       "      <td>$55,874.52</td>\n",
       "      <td>13171316M_13367298F</td>\n",
       "    </tr>\n",
       "  </tbody>\n",
       "</table>\n",
       "</div>"
      ],
      "text/plain": [
       "   Unnamed: 0           State  TotalPop Hispanic   White   Black Native  \\\n",
       "0           0    Rhode Island   1053661   13.36%  74.33%   5.68%  0.35%   \n",
       "1           1  South Carolina   4777576    5.06%  62.89%  28.75%  0.29%   \n",
       "2           2    South Dakota    843190    3.24%  82.50%   1.42%  9.42%   \n",
       "3           3       Tennessee   6499615    4.72%  73.49%  18.28%  0.23%   \n",
       "4           4           Texas  26538614   38.05%  44.69%  11.65%  0.26%   \n",
       "\n",
       "   Asian Pacific       Income            GenderPop  \n",
       "0  3.25%   0.04%  $59,125.27       510388M_543273F  \n",
       "1  1.25%   0.05%  $46,296.81     2322409M_2455167F  \n",
       "2  1.02%   0.04%  $51,805.41       423477M_419713F  \n",
       "3  1.41%   0.04%  $47,328.08     3167756M_3331859F  \n",
       "4  3.67%   0.07%  $55,874.52   13171316M_13367298F  "
      ]
     },
     "execution_count": 82,
     "metadata": {},
     "output_type": "execute_result"
    }
   ],
   "source": [
    "states_df=[]\n",
    "\n",
    "for state in states:\n",
    "  data=pd.read_csv(state)\n",
    "  states_df.append(data)\n",
    "  \n",
    "combined_states=pd.concat(states_df)\n",
    "\n",
    "combined_states.head()"
   ]
  },
  {
   "cell_type": "markdown",
   "id": "f3f01e7e",
   "metadata": {},
   "source": [
    "## Melt Data"
   ]
  },
  {
   "cell_type": "code",
   "execution_count": 83,
   "id": "35d71234",
   "metadata": {},
   "outputs": [
    {
     "data": {
      "application/vnd.microsoft.datawrangler.viewer.v0+json": {
       "columns": [
        {
         "name": "index",
         "rawType": "int64",
         "type": "integer"
        },
        {
         "name": "State",
         "rawType": "object",
         "type": "string"
        },
        {
         "name": "TotalPop",
         "rawType": "int64",
         "type": "integer"
        },
        {
         "name": "Income",
         "rawType": "object",
         "type": "string"
        },
        {
         "name": "GenderPop",
         "rawType": "object",
         "type": "string"
        },
        {
         "name": "race",
         "rawType": "object",
         "type": "string"
        },
        {
         "name": "PopPercentage",
         "rawType": "object",
         "type": "string"
        }
       ],
       "ref": "a9de7bd4-14cd-4aa4-b6b8-4a86ca5f4cec",
       "rows": [
        [
         "0",
         "Rhode Island",
         "1053661",
         "$59,125.27 ",
         "510388M_543273F",
         "Hispanic",
         "13.36%"
        ],
        [
         "1",
         "South Carolina",
         "4777576",
         "$46,296.81 ",
         "2322409M_2455167F",
         "Hispanic",
         "5.06%"
        ],
        [
         "2",
         "South Dakota",
         "843190",
         "$51,805.41 ",
         "423477M_419713F",
         "Hispanic",
         "3.24%"
        ],
        [
         "3",
         "Tennessee",
         "6499615",
         "$47,328.08 ",
         "3167756M_3331859F",
         "Hispanic",
         "4.72%"
        ],
        [
         "4",
         "Texas",
         "26538614",
         "$55,874.52 ",
         "13171316M_13367298F",
         "Hispanic",
         "38.05%"
        ]
       ],
       "shape": {
        "columns": 6,
        "rows": 5
       }
      },
      "text/html": [
       "<div>\n",
       "<style scoped>\n",
       "    .dataframe tbody tr th:only-of-type {\n",
       "        vertical-align: middle;\n",
       "    }\n",
       "\n",
       "    .dataframe tbody tr th {\n",
       "        vertical-align: top;\n",
       "    }\n",
       "\n",
       "    .dataframe thead th {\n",
       "        text-align: right;\n",
       "    }\n",
       "</style>\n",
       "<table border=\"1\" class=\"dataframe\">\n",
       "  <thead>\n",
       "    <tr style=\"text-align: right;\">\n",
       "      <th></th>\n",
       "      <th>State</th>\n",
       "      <th>TotalPop</th>\n",
       "      <th>Income</th>\n",
       "      <th>GenderPop</th>\n",
       "      <th>race</th>\n",
       "      <th>PopPercentage</th>\n",
       "    </tr>\n",
       "  </thead>\n",
       "  <tbody>\n",
       "    <tr>\n",
       "      <th>0</th>\n",
       "      <td>Rhode Island</td>\n",
       "      <td>1053661</td>\n",
       "      <td>$59,125.27</td>\n",
       "      <td>510388M_543273F</td>\n",
       "      <td>Hispanic</td>\n",
       "      <td>13.36%</td>\n",
       "    </tr>\n",
       "    <tr>\n",
       "      <th>1</th>\n",
       "      <td>South Carolina</td>\n",
       "      <td>4777576</td>\n",
       "      <td>$46,296.81</td>\n",
       "      <td>2322409M_2455167F</td>\n",
       "      <td>Hispanic</td>\n",
       "      <td>5.06%</td>\n",
       "    </tr>\n",
       "    <tr>\n",
       "      <th>2</th>\n",
       "      <td>South Dakota</td>\n",
       "      <td>843190</td>\n",
       "      <td>$51,805.41</td>\n",
       "      <td>423477M_419713F</td>\n",
       "      <td>Hispanic</td>\n",
       "      <td>3.24%</td>\n",
       "    </tr>\n",
       "    <tr>\n",
       "      <th>3</th>\n",
       "      <td>Tennessee</td>\n",
       "      <td>6499615</td>\n",
       "      <td>$47,328.08</td>\n",
       "      <td>3167756M_3331859F</td>\n",
       "      <td>Hispanic</td>\n",
       "      <td>4.72%</td>\n",
       "    </tr>\n",
       "    <tr>\n",
       "      <th>4</th>\n",
       "      <td>Texas</td>\n",
       "      <td>26538614</td>\n",
       "      <td>$55,874.52</td>\n",
       "      <td>13171316M_13367298F</td>\n",
       "      <td>Hispanic</td>\n",
       "      <td>38.05%</td>\n",
       "    </tr>\n",
       "  </tbody>\n",
       "</table>\n",
       "</div>"
      ],
      "text/plain": [
       "            State  TotalPop       Income            GenderPop      race  \\\n",
       "0    Rhode Island   1053661  $59,125.27       510388M_543273F  Hispanic   \n",
       "1  South Carolina   4777576  $46,296.81     2322409M_2455167F  Hispanic   \n",
       "2    South Dakota    843190  $51,805.41       423477M_419713F  Hispanic   \n",
       "3       Tennessee   6499615  $47,328.08     3167756M_3331859F  Hispanic   \n",
       "4           Texas  26538614  $55,874.52   13171316M_13367298F  Hispanic   \n",
       "\n",
       "  PopPercentage  \n",
       "0        13.36%  \n",
       "1         5.06%  \n",
       "2         3.24%  \n",
       "3         4.72%  \n",
       "4        38.05%  "
      ]
     },
     "execution_count": 83,
     "metadata": {},
     "output_type": "execute_result"
    }
   ],
   "source": [
    "reshaped_data=pd.melt(\n",
    "    combined_states,\n",
    "    id_vars=['State','TotalPop','Income','GenderPop'],\n",
    "    value_vars=['Hispanic','White','Black','Native','Asian','Pacific'],\n",
    "    var_name='race',\n",
    "    value_name='PopPercentage'\n",
    ")\n",
    "reshaped_data.head()"
   ]
  },
  {
   "cell_type": "markdown",
   "id": "4a08c630",
   "metadata": {},
   "source": [
    "## Checking For Duplicates"
   ]
  },
  {
   "cell_type": "code",
   "execution_count": 84,
   "id": "cddbd78b",
   "metadata": {},
   "outputs": [
    {
     "data": {
      "text/plain": [
       "54"
      ]
     },
     "execution_count": 84,
     "metadata": {},
     "output_type": "execute_result"
    }
   ],
   "source": [
    "\n",
    "reshaped_data.duplicated().sum()"
   ]
  },
  {
   "cell_type": "markdown",
   "id": "83138deb",
   "metadata": {},
   "source": [
    "## droping duplicates"
   ]
  },
  {
   "cell_type": "code",
   "execution_count": 85,
   "id": "65252f9b",
   "metadata": {},
   "outputs": [
    {
     "data": {
      "text/plain": [
       "0"
      ]
     },
     "execution_count": 85,
     "metadata": {},
     "output_type": "execute_result"
    }
   ],
   "source": [
    "reshaped_data=reshaped_data.drop_duplicates()\n",
    "reshaped_data.duplicated().sum()"
   ]
  },
  {
   "cell_type": "code",
   "execution_count": 86,
   "id": "98d92313",
   "metadata": {},
   "outputs": [
    {
     "data": {
      "application/vnd.microsoft.datawrangler.viewer.v0+json": {
       "columns": [
        {
         "name": "index",
         "rawType": "int64",
         "type": "integer"
        },
        {
         "name": "State",
         "rawType": "object",
         "type": "string"
        },
        {
         "name": "TotalPop",
         "rawType": "int64",
         "type": "integer"
        },
        {
         "name": "Income",
         "rawType": "object",
         "type": "string"
        },
        {
         "name": "GenderPop",
         "rawType": "object",
         "type": "string"
        },
        {
         "name": "race",
         "rawType": "object",
         "type": "string"
        },
        {
         "name": "PopPercentage",
         "rawType": "object",
         "type": "string"
        }
       ],
       "ref": "9b0b8019-90ca-4144-abf4-7a8f3e2472b9",
       "rows": [
        [
         "0",
         "Rhode Island",
         "1053661",
         "$59,125.27 ",
         "510388M_543273F",
         "Hispanic",
         "13.36%"
        ],
        [
         "1",
         "South Carolina",
         "4777576",
         "$46,296.81 ",
         "2322409M_2455167F",
         "Hispanic",
         "5.06%"
        ],
        [
         "2",
         "South Dakota",
         "843190",
         "$51,805.41 ",
         "423477M_419713F",
         "Hispanic",
         "3.24%"
        ],
        [
         "3",
         "Tennessee",
         "6499615",
         "$47,328.08 ",
         "3167756M_3331859F",
         "Hispanic",
         "4.72%"
        ],
        [
         "4",
         "Texas",
         "26538614",
         "$55,874.52 ",
         "13171316M_13367298F",
         "Hispanic",
         "38.05%"
        ]
       ],
       "shape": {
        "columns": 6,
        "rows": 5
       }
      },
      "text/html": [
       "<div>\n",
       "<style scoped>\n",
       "    .dataframe tbody tr th:only-of-type {\n",
       "        vertical-align: middle;\n",
       "    }\n",
       "\n",
       "    .dataframe tbody tr th {\n",
       "        vertical-align: top;\n",
       "    }\n",
       "\n",
       "    .dataframe thead th {\n",
       "        text-align: right;\n",
       "    }\n",
       "</style>\n",
       "<table border=\"1\" class=\"dataframe\">\n",
       "  <thead>\n",
       "    <tr style=\"text-align: right;\">\n",
       "      <th></th>\n",
       "      <th>State</th>\n",
       "      <th>TotalPop</th>\n",
       "      <th>Income</th>\n",
       "      <th>GenderPop</th>\n",
       "      <th>race</th>\n",
       "      <th>PopPercentage</th>\n",
       "    </tr>\n",
       "  </thead>\n",
       "  <tbody>\n",
       "    <tr>\n",
       "      <th>0</th>\n",
       "      <td>Rhode Island</td>\n",
       "      <td>1053661</td>\n",
       "      <td>$59,125.27</td>\n",
       "      <td>510388M_543273F</td>\n",
       "      <td>Hispanic</td>\n",
       "      <td>13.36%</td>\n",
       "    </tr>\n",
       "    <tr>\n",
       "      <th>1</th>\n",
       "      <td>South Carolina</td>\n",
       "      <td>4777576</td>\n",
       "      <td>$46,296.81</td>\n",
       "      <td>2322409M_2455167F</td>\n",
       "      <td>Hispanic</td>\n",
       "      <td>5.06%</td>\n",
       "    </tr>\n",
       "    <tr>\n",
       "      <th>2</th>\n",
       "      <td>South Dakota</td>\n",
       "      <td>843190</td>\n",
       "      <td>$51,805.41</td>\n",
       "      <td>423477M_419713F</td>\n",
       "      <td>Hispanic</td>\n",
       "      <td>3.24%</td>\n",
       "    </tr>\n",
       "    <tr>\n",
       "      <th>3</th>\n",
       "      <td>Tennessee</td>\n",
       "      <td>6499615</td>\n",
       "      <td>$47,328.08</td>\n",
       "      <td>3167756M_3331859F</td>\n",
       "      <td>Hispanic</td>\n",
       "      <td>4.72%</td>\n",
       "    </tr>\n",
       "    <tr>\n",
       "      <th>4</th>\n",
       "      <td>Texas</td>\n",
       "      <td>26538614</td>\n",
       "      <td>$55,874.52</td>\n",
       "      <td>13171316M_13367298F</td>\n",
       "      <td>Hispanic</td>\n",
       "      <td>38.05%</td>\n",
       "    </tr>\n",
       "  </tbody>\n",
       "</table>\n",
       "</div>"
      ],
      "text/plain": [
       "            State  TotalPop       Income            GenderPop      race  \\\n",
       "0    Rhode Island   1053661  $59,125.27       510388M_543273F  Hispanic   \n",
       "1  South Carolina   4777576  $46,296.81     2322409M_2455167F  Hispanic   \n",
       "2    South Dakota    843190  $51,805.41       423477M_419713F  Hispanic   \n",
       "3       Tennessee   6499615  $47,328.08     3167756M_3331859F  Hispanic   \n",
       "4           Texas  26538614  $55,874.52   13171316M_13367298F  Hispanic   \n",
       "\n",
       "  PopPercentage  \n",
       "0        13.36%  \n",
       "1         5.06%  \n",
       "2         3.24%  \n",
       "3         4.72%  \n",
       "4        38.05%  "
      ]
     },
     "execution_count": 86,
     "metadata": {},
     "output_type": "execute_result"
    }
   ],
   "source": [
    "reshaped_data.head()"
   ]
  },
  {
   "cell_type": "markdown",
   "id": "af524081",
   "metadata": {},
   "source": [
    "## cleaning Income feature"
   ]
  },
  {
   "cell_type": "code",
   "execution_count": 87,
   "id": "0732811d",
   "metadata": {},
   "outputs": [
    {
     "data": {
      "application/vnd.microsoft.datawrangler.viewer.v0+json": {
       "columns": [
        {
         "name": "index",
         "rawType": "int64",
         "type": "integer"
        },
        {
         "name": "Income",
         "rawType": "object",
         "type": "string"
        }
       ],
       "ref": "18eb4edb-ecd6-4231-937b-232d9bdf4d7d",
       "rows": [
        [
         "0",
         "59125.27 "
        ],
        [
         "1",
         "46296.81 "
        ],
        [
         "2",
         "51805.41 "
        ],
        [
         "3",
         "47328.08 "
        ],
        [
         "4",
         "55874.52 "
        ],
        [
         "5",
         "63488.92 "
        ],
        [
         "7",
         "55602.97 "
        ],
        [
         "8",
         "72866.01 "
        ],
        [
         "9",
         "64493.77 "
        ],
        [
         "10",
         "41437.11 "
        ],
        [
         "11",
         "53898.89 "
        ],
        [
         "12",
         "78765.40 "
        ],
        [
         "13",
         "72838.94 "
        ],
        [
         "14",
         "51201.83 "
        ],
        [
         "15",
         "62820.83 "
        ],
        [
         "16",
         "38909.92 "
        ],
        [
         "17",
         "49763.99 "
        ],
        [
         "19",
         "47645.68 "
        ],
        [
         "20",
         "55916.47 "
        ],
        [
         "21",
         "55526.53 "
        ],
        [
         "22",
         "68728.86 "
        ],
        [
         "23",
         "76581.08 "
        ],
        [
         "24",
         "49655.25 "
        ],
        [
         "25",
         "48100.85 "
        ],
        [
         "26",
         "54271.90 "
        ],
        [
         "27",
         "56170.46 "
        ],
        [
         "28",
         "20720.54 "
        ],
        [
         "31",
         "47329.97 "
        ],
        [
         "32",
         "64290.75 "
        ],
        [
         "33",
         "49937.46 "
        ],
        [
         "34",
         "58188.11 "
        ],
        [
         "36",
         "50811.08 "
        ],
        [
         "37",
         "73264.43 "
        ],
        [
         "38",
         "48017.32 "
        ],
        [
         "39",
         "59587.05 "
        ],
        [
         "40",
         "48616.23 "
        ],
        [
         "41",
         "53017.75 "
        ],
        [
         "43",
         "53885.61 "
        ],
        [
         "44",
         "45285.80 "
        ],
        [
         "45",
         "44957.99 "
        ],
        [
         "46",
         "49181.97 "
        ],
        [
         "48",
         "64657.80 "
        ],
        [
         "49",
         "76146.56 "
        ],
        [
         "50",
         "61827.98 "
        ],
        [
         "51",
         "75466.36 "
        ],
        [
         "52",
         "50690.19 "
        ],
        [
         "54",
         "43296.36 "
        ],
        [
         "55",
         "70354.74 "
        ],
        [
         "56",
         "54207.82 "
        ],
        [
         "57",
         "41935.63 "
        ]
       ],
       "shape": {
        "columns": 1,
        "rows": 306
       }
      },
      "text/plain": [
       "0      59125.27 \n",
       "1      46296.81 \n",
       "2      51805.41 \n",
       "3      47328.08 \n",
       "4      55874.52 \n",
       "         ...    \n",
       "354    43296.36 \n",
       "355    70354.74 \n",
       "356    54207.82 \n",
       "357    41935.63 \n",
       "358    67264.78 \n",
       "Name: Income, Length: 306, dtype: object"
      ]
     },
     "execution_count": 87,
     "metadata": {},
     "output_type": "execute_result"
    }
   ],
   "source": [
    "reshaped_data.Income=reshaped_data.Income.str.replace('[$,]','',regex=True)\n",
    "reshaped_data.Income"
   ]
  },
  {
   "cell_type": "markdown",
   "id": "2327c6b1",
   "metadata": {},
   "source": [
    "## cleaning and reshaping GenderPop feature"
   ]
  },
  {
   "cell_type": "code",
   "execution_count": 88,
   "id": "920fcbe3",
   "metadata": {},
   "outputs": [
    {
     "data": {
      "application/vnd.microsoft.datawrangler.viewer.v0+json": {
       "columns": [
        {
         "name": "index",
         "rawType": "int64",
         "type": "integer"
        },
        {
         "name": "0",
         "rawType": "object",
         "type": "string"
        },
        {
         "name": "1",
         "rawType": "object",
         "type": "string"
        }
       ],
       "ref": "0ec0b9aa-8aa0-4475-87bf-28e389569efb",
       "rows": [
        [
         "0",
         "510388M",
         "543273F"
        ],
        [
         "1",
         "2322409M",
         "2455167F"
        ],
        [
         "2",
         "423477M",
         "419713F"
        ],
        [
         "3",
         "3167756M",
         "3331859F"
        ],
        [
         "4",
         "13171316M",
         "13367298F"
        ],
        [
         "5",
         "1459229M",
         "1444150F"
        ],
        [
         "7",
         "308573M",
         "318031F"
        ],
        [
         "8",
         "4060948M",
         "4195682F"
        ],
        [
         "9",
         "3487725M",
         "3497739F"
        ],
        [
         "10",
         "913631M",
         "937789F"
        ],
        [
         "11",
         "2851385M",
         "2890732F"
        ],
        [
         "12",
         "2872643M",
         "F"
        ],
        [
         "13",
         "3249650M",
         "3455936F"
        ],
        [
         "14",
         "4861973M",
         "5038598F"
        ],
        [
         "15",
         "2692166M",
         "2727005F"
        ],
        [
         "16",
         "1451723M",
         "1536358F"
        ],
        [
         "17",
         "2964003M",
         "3081445F"
        ],
        [
         "19",
         "510163M",
         "F"
        ],
        [
         "20",
         "929606M",
         "939759F"
        ],
        [
         "21",
         "1407735M",
         "1390901F"
        ],
        [
         "22",
         "653484M",
         "670717F"
        ],
        [
         "23",
         "4343027M",
         "4561386F"
        ],
        [
         "24",
         "5662893M",
         "5913084F"
        ],
        [
         "25",
         "1906944M",
         "1942789F"
        ],
        [
         "26",
         "1948453M",
         "1990780F"
        ],
        [
         "27",
         "6245344M",
         "6534215F"
        ],
        [
         "28",
         "1713860M",
         "1869213F"
        ],
        [
         "31",
         "1032414M",
         "1051703F"
        ],
        [
         "32",
         "9541801M",
         "10131373F"
        ],
        [
         "33",
         "4795408M",
         "5049925F"
        ],
        [
         "34",
         "367963M",
         "353677F"
        ],
        [
         "36",
         "4883331M",
         "5123362F"
        ],
        [
         "37",
         "709871M",
         "696428F"
        ],
        [
         "38",
         "810464M",
         "806083F"
        ],
        [
         "39",
         "6316899M",
         "6556862F"
        ],
        [
         "40",
         "3235263M",
         "3333382F"
        ],
        [
         "41",
         "1534595M",
         "1558931F"
        ],
        [
         "43",
         "1439862M",
         "1453125F"
        ],
        [
         "44",
         "2164208M",
         "2233145F"
        ],
        [
         "45",
         "2261156M",
         "2364097F"
        ],
        [
         "46",
         "650081M",
         "679019F"
        ],
        [
         "48",
         "2648667M",
         "2630239F"
        ],
        [
         "49",
         "1751607M",
         "1841615F"
        ],
        [
         "50",
         "448413M",
         "478041F"
        ],
        [
         "51",
         "306674M",
         "340810F"
        ],
        [
         "52",
         "9600009M",
         "10045763F"
        ],
        [
         "54",
         "2341093M",
         "2489527F"
        ],
        [
         "55",
         "384160M",
         "349215F"
        ],
        [
         "56",
         "3299088M",
         "3342840F"
        ],
        [
         "57",
         "1451913M",
         "1506295F"
        ]
       ],
       "shape": {
        "columns": 2,
        "rows": 306
       }
      },
      "text/html": [
       "<div>\n",
       "<style scoped>\n",
       "    .dataframe tbody tr th:only-of-type {\n",
       "        vertical-align: middle;\n",
       "    }\n",
       "\n",
       "    .dataframe tbody tr th {\n",
       "        vertical-align: top;\n",
       "    }\n",
       "\n",
       "    .dataframe thead th {\n",
       "        text-align: right;\n",
       "    }\n",
       "</style>\n",
       "<table border=\"1\" class=\"dataframe\">\n",
       "  <thead>\n",
       "    <tr style=\"text-align: right;\">\n",
       "      <th></th>\n",
       "      <th>0</th>\n",
       "      <th>1</th>\n",
       "    </tr>\n",
       "  </thead>\n",
       "  <tbody>\n",
       "    <tr>\n",
       "      <th>0</th>\n",
       "      <td>510388M</td>\n",
       "      <td>543273F</td>\n",
       "    </tr>\n",
       "    <tr>\n",
       "      <th>1</th>\n",
       "      <td>2322409M</td>\n",
       "      <td>2455167F</td>\n",
       "    </tr>\n",
       "    <tr>\n",
       "      <th>2</th>\n",
       "      <td>423477M</td>\n",
       "      <td>419713F</td>\n",
       "    </tr>\n",
       "    <tr>\n",
       "      <th>3</th>\n",
       "      <td>3167756M</td>\n",
       "      <td>3331859F</td>\n",
       "    </tr>\n",
       "    <tr>\n",
       "      <th>4</th>\n",
       "      <td>13171316M</td>\n",
       "      <td>13367298F</td>\n",
       "    </tr>\n",
       "    <tr>\n",
       "      <th>...</th>\n",
       "      <td>...</td>\n",
       "      <td>...</td>\n",
       "    </tr>\n",
       "    <tr>\n",
       "      <th>354</th>\n",
       "      <td>2341093M</td>\n",
       "      <td>2489527F</td>\n",
       "    </tr>\n",
       "    <tr>\n",
       "      <th>355</th>\n",
       "      <td>384160M</td>\n",
       "      <td>349215F</td>\n",
       "    </tr>\n",
       "    <tr>\n",
       "      <th>356</th>\n",
       "      <td>3299088M</td>\n",
       "      <td>3342840F</td>\n",
       "    </tr>\n",
       "    <tr>\n",
       "      <th>357</th>\n",
       "      <td>1451913M</td>\n",
       "      <td>1506295F</td>\n",
       "    </tr>\n",
       "    <tr>\n",
       "      <th>358</th>\n",
       "      <td>19087135M</td>\n",
       "      <td>19334329F</td>\n",
       "    </tr>\n",
       "  </tbody>\n",
       "</table>\n",
       "<p>306 rows × 2 columns</p>\n",
       "</div>"
      ],
      "text/plain": [
       "             0          1\n",
       "0      510388M    543273F\n",
       "1     2322409M   2455167F\n",
       "2      423477M    419713F\n",
       "3     3167756M   3331859F\n",
       "4    13171316M  13367298F\n",
       "..         ...        ...\n",
       "354   2341093M   2489527F\n",
       "355    384160M    349215F\n",
       "356   3299088M   3342840F\n",
       "357   1451913M   1506295F\n",
       "358  19087135M  19334329F\n",
       "\n",
       "[306 rows x 2 columns]"
      ]
     },
     "execution_count": 88,
     "metadata": {},
     "output_type": "execute_result"
    }
   ],
   "source": [
    "split_data=reshaped_data.GenderPop.str.split('_',expand=True)\n",
    "split_data"
   ]
  },
  {
   "cell_type": "markdown",
   "id": "0517e670",
   "metadata": {},
   "source": [
    " ## cleaning PopPercentage"
   ]
  },
  {
   "cell_type": "code",
   "execution_count": 89,
   "id": "c938db34",
   "metadata": {},
   "outputs": [
    {
     "name": "stderr",
     "output_type": "stream",
     "text": [
      "<>:1: SyntaxWarning: invalid escape sequence '\\%'\n",
      "<>:1: SyntaxWarning: invalid escape sequence '\\%'\n",
      "/var/folders/yh/7k5bf4ln10s4_h2kj1zxwpnh0000gn/T/ipykernel_46566/4047955742.py:1: SyntaxWarning: invalid escape sequence '\\%'\n",
      "  reshaped_data.PopPercentage=reshaped_data.PopPercentage.str.replace('(\\%)','',regex=True)\n"
     ]
    },
    {
     "data": {
      "application/vnd.microsoft.datawrangler.viewer.v0+json": {
       "columns": [
        {
         "name": "index",
         "rawType": "int64",
         "type": "integer"
        },
        {
         "name": "PopPercentage",
         "rawType": "object",
         "type": "unknown"
        }
       ],
       "ref": "8716d572-34cd-40e0-921e-03155cd768e9",
       "rows": [
        [
         "0",
         "13.36"
        ],
        [
         "1",
         "5.06"
        ],
        [
         "2",
         "3.24"
        ],
        [
         "3",
         "4.72"
        ],
        [
         "4",
         "38.05"
        ],
        [
         "5",
         "13.47"
        ],
        [
         "7",
         "1.61"
        ],
        [
         "8",
         "8.01"
        ],
        [
         "9",
         "11.14"
        ],
        [
         "10",
         "1.29"
        ],
        [
         "11",
         "6.68"
        ],
        [
         "12",
         "8.47"
        ],
        [
         "13",
         "11.46"
        ],
        [
         "14",
         "4.63"
        ],
        [
         "15",
         "5.15"
        ],
        [
         "16",
         "2.84"
        ],
        [
         "17",
         "4.04"
        ],
        [
         "19",
         "3.27"
        ],
        [
         "20",
         "9.20"
        ],
        [
         "21",
         "27.10"
        ],
        [
         "22",
         "3.32"
        ],
        [
         "23",
         "18.75"
        ],
        [
         "24",
         "3.67"
        ],
        [
         "25",
         "10.08"
        ],
        [
         "26",
         "11.44"
        ],
        [
         "27",
         "6.13"
        ],
        [
         "28",
         "98.89"
        ],
        [
         "31",
         "45.28"
        ],
        [
         "32",
         "17.24"
        ],
        [
         "33",
         "8.46"
        ],
        [
         "34",
         "2.83"
        ],
        [
         "36",
         "8.42"
        ],
        [
         "37",
         "9.19"
        ],
        [
         "38",
         "11.51"
        ],
        [
         "39",
         "15.60"
        ],
        [
         "40",
         "6.54"
        ],
        [
         "41",
         "5.30"
        ],
        [
         "43",
         "11.64"
        ],
        [
         "44",
         "3.22"
        ],
        [
         "45",
         "4.87"
        ],
        [
         "46",
         "1.43"
        ],
        [
         "48",
         "20.78"
        ],
        [
         "49",
         "15.60"
        ],
        [
         "50",
         "8.82"
        ],
        [
         "51",
         "9.17"
        ],
        [
         "52",
         "21.34"
        ],
        [
         "54",
         "3.75"
        ],
        [
         "55",
         "5.91"
        ],
        [
         "56",
         "29.57"
        ],
        [
         "57",
         "6.22"
        ]
       ],
       "shape": {
        "columns": 1,
        "rows": 306
       }
      },
      "text/plain": [
       "0      13.36\n",
       "1       5.06\n",
       "2       3.24\n",
       "3       4.72\n",
       "4      38.05\n",
       "       ...  \n",
       "354     0.03\n",
       "355     1.06\n",
       "356     0.17\n",
       "357     0.15\n",
       "358     0.35\n",
       "Name: PopPercentage, Length: 306, dtype: object"
      ]
     },
     "execution_count": 89,
     "metadata": {},
     "output_type": "execute_result"
    }
   ],
   "source": [
    "reshaped_data.PopPercentage=reshaped_data.PopPercentage.str.replace('(\\%)','',regex=True)\n",
    "reshaped_data.PopPercentage"
   ]
  },
  {
   "cell_type": "markdown",
   "id": "357e3664",
   "metadata": {},
   "source": [
    "## getting male Population and changing data type\n"
   ]
  },
  {
   "cell_type": "code",
   "execution_count": 90,
   "id": "4500f009",
   "metadata": {},
   "outputs": [],
   "source": [
    "reshaped_data['malePop']=split_data[0].str.replace('M','',regex=True)\n",
    "reshaped_data['malePop']=pd.to_numeric(reshaped_data['malePop'])"
   ]
  },
  {
   "cell_type": "markdown",
   "id": "cfb2dd56",
   "metadata": {},
   "source": [
    "## getting female Population and changing data type"
   ]
  },
  {
   "cell_type": "code",
   "execution_count": 91,
   "id": "0dee314f",
   "metadata": {},
   "outputs": [],
   "source": [
    "reshaped_data['femalePop']=split_data[1].str.replace('F','',regex=True)\n",
    "reshaped_data['femalePop']=pd.to_numeric(reshaped_data['femalePop'])"
   ]
  },
  {
   "cell_type": "code",
   "execution_count": 92,
   "id": "e04cadb0",
   "metadata": {},
   "outputs": [
    {
     "data": {
      "application/vnd.microsoft.datawrangler.viewer.v0+json": {
       "columns": [
        {
         "name": "index",
         "rawType": "int64",
         "type": "integer"
        },
        {
         "name": "State",
         "rawType": "object",
         "type": "string"
        },
        {
         "name": "TotalPop",
         "rawType": "int64",
         "type": "integer"
        },
        {
         "name": "Income",
         "rawType": "object",
         "type": "string"
        },
        {
         "name": "race",
         "rawType": "object",
         "type": "string"
        },
        {
         "name": "PopPercentage",
         "rawType": "object",
         "type": "unknown"
        },
        {
         "name": "malePop",
         "rawType": "int64",
         "type": "integer"
        },
        {
         "name": "femalePop",
         "rawType": "float64",
         "type": "float"
        }
       ],
       "ref": "ea11c54d-c8cb-4244-9cd4-3a0a7dad91c8",
       "rows": [
        [
         "0",
         "Rhode Island",
         "1053661",
         "59125.27 ",
         "Hispanic",
         "13.36",
         "510388",
         "543273.0"
        ],
        [
         "1",
         "South Carolina",
         "4777576",
         "46296.81 ",
         "Hispanic",
         "5.06",
         "2322409",
         "2455167.0"
        ],
        [
         "2",
         "South Dakota",
         "843190",
         "51805.41 ",
         "Hispanic",
         "3.24",
         "423477",
         "419713.0"
        ],
        [
         "3",
         "Tennessee",
         "6499615",
         "47328.08 ",
         "Hispanic",
         "4.72",
         "3167756",
         "3331859.0"
        ],
        [
         "4",
         "Texas",
         "26538614",
         "55874.52 ",
         "Hispanic",
         "38.05",
         "13171316",
         "13367298.0"
        ],
        [
         "5",
         "Utah",
         "2903379",
         "63488.92 ",
         "Hispanic",
         "13.47",
         "1459229",
         "1444150.0"
        ],
        [
         "7",
         "Vermont",
         "626604",
         "55602.97 ",
         "Hispanic",
         "1.61",
         "308573",
         "318031.0"
        ],
        [
         "8",
         "Virginia",
         "8256630",
         "72866.01 ",
         "Hispanic",
         "8.01",
         "4060948",
         "4195682.0"
        ],
        [
         "9",
         "Washington",
         "6985464",
         "64493.77 ",
         "Hispanic",
         "11.14",
         "3487725",
         "3497739.0"
        ],
        [
         "10",
         "West Virginia",
         "1851420",
         "41437.11 ",
         "Hispanic",
         "1.29",
         "913631",
         "937789.0"
        ],
        [
         "11",
         "Wisconsin",
         "5742117",
         "53898.89 ",
         "Hispanic",
         "6.68",
         "2851385",
         "2890732.0"
        ],
        [
         "12",
         "Maryland",
         "5930538",
         "78765.40 ",
         "Hispanic",
         "8.47",
         "2872643",
         null
        ],
        [
         "13",
         "Massachusetts",
         "6705586",
         "72838.94 ",
         "Hispanic",
         "11.46",
         "3249650",
         "3455936.0"
        ],
        [
         "14",
         "Michigan",
         "9900571",
         "51201.83 ",
         "Hispanic",
         "4.63",
         "4861973",
         "5038598.0"
        ],
        [
         "15",
         "Minnesota",
         "5419171",
         "62820.83 ",
         "Hispanic",
         "5.15",
         "2692166",
         "2727005.0"
        ],
        [
         "16",
         "Mississippi",
         "2988081",
         "38909.92 ",
         "Hispanic",
         "2.84",
         "1451723",
         "1536358.0"
        ],
        [
         "17",
         "Missouri",
         "6045448",
         "49763.99 ",
         "Hispanic",
         "4.04",
         "2964003",
         "3081445.0"
        ],
        [
         "19",
         "Montana",
         "1014699",
         "47645.68 ",
         "Hispanic",
         "3.27",
         "510163",
         null
        ],
        [
         "20",
         "Nebraska",
         "1869365",
         "55916.47 ",
         "Hispanic",
         "9.20",
         "929606",
         "939759.0"
        ],
        [
         "21",
         "Nevada",
         "2798636",
         "55526.53 ",
         "Hispanic",
         "27.10",
         "1407735",
         "1390901.0"
        ],
        [
         "22",
         "New Hampshire",
         "1324201",
         "68728.86 ",
         "Hispanic",
         "3.32",
         "653484",
         "670717.0"
        ],
        [
         "23",
         "New Jersey",
         "8904413",
         "76581.08 ",
         "Hispanic",
         "18.75",
         "4343027",
         "4561386.0"
        ],
        [
         "24",
         "Ohio",
         "11575977",
         "49655.25 ",
         "Hispanic",
         "3.67",
         "5662893",
         "5913084.0"
        ],
        [
         "25",
         "Oklahoma",
         "3849733",
         "48100.85 ",
         "Hispanic",
         "10.08",
         "1906944",
         "1942789.0"
        ],
        [
         "26",
         "Oregon",
         "3939233",
         "54271.90 ",
         "Hispanic",
         "11.44",
         "1948453",
         "1990780.0"
        ],
        [
         "27",
         "Pennsylvania",
         "12779559",
         "56170.46 ",
         "Hispanic",
         "6.13",
         "6245344",
         "6534215.0"
        ],
        [
         "28",
         "Puerto Rico",
         "3583073",
         "20720.54 ",
         "Hispanic",
         "98.89",
         "1713860",
         "1869213.0"
        ],
        [
         "31",
         "New Mexico",
         "2084117",
         "47329.97 ",
         "Hispanic",
         "45.28",
         "1032414",
         "1051703.0"
        ],
        [
         "32",
         "New York",
         "19673174",
         "64290.75 ",
         "Hispanic",
         "17.24",
         "9541801",
         "10131373.0"
        ],
        [
         "33",
         "North Carolina",
         "9845333",
         "49937.46 ",
         "Hispanic",
         "8.46",
         "4795408",
         "5049925.0"
        ],
        [
         "34",
         "North Dakota",
         "721640",
         "58188.11 ",
         "Hispanic",
         "2.83",
         "367963",
         "353677.0"
        ],
        [
         "36",
         "Georgia",
         "10006693",
         "50811.08 ",
         "Hispanic",
         "8.42",
         "4883331",
         "5123362.0"
        ],
        [
         "37",
         "Hawaii",
         "1406299",
         "73264.43 ",
         "Hispanic",
         "9.19",
         "709871",
         "696428.0"
        ],
        [
         "38",
         "Idaho",
         "1616547",
         "48017.32 ",
         "Hispanic",
         "11.51",
         "810464",
         "806083.0"
        ],
        [
         "39",
         "Illinois",
         "12873761",
         "59587.05 ",
         "Hispanic",
         "15.60",
         "6316899",
         "6556862.0"
        ],
        [
         "40",
         "Indiana",
         "6568645",
         "48616.23 ",
         "Hispanic",
         "6.54",
         "3235263",
         "3333382.0"
        ],
        [
         "41",
         "Iowa",
         "3093526",
         "53017.75 ",
         "Hispanic",
         "5.30",
         "1534595",
         "1558931.0"
        ],
        [
         "43",
         "Kansas",
         "2892987",
         "53885.61 ",
         "Hispanic",
         "11.64",
         "1439862",
         "1453125.0"
        ],
        [
         "44",
         "Kentucky",
         "4397353",
         "45285.80 ",
         "Hispanic",
         "3.22",
         "2164208",
         "2233145.0"
        ],
        [
         "45",
         "Louisiana",
         "4625253",
         "44957.99 ",
         "Hispanic",
         "4.87",
         "2261156",
         "2364097.0"
        ],
        [
         "46",
         "Maine",
         "1329100",
         "49181.97 ",
         "Hispanic",
         "1.43",
         "650081",
         "679019.0"
        ],
        [
         "48",
         "Colorado",
         "5278906",
         "64657.80 ",
         "Hispanic",
         "20.78",
         "2648667",
         "2630239.0"
        ],
        [
         "49",
         "Connecticut",
         "3593222",
         "76146.56 ",
         "Hispanic",
         "15.60",
         "1751607",
         "1841615.0"
        ],
        [
         "50",
         "Delaware",
         "926454",
         "61827.98 ",
         "Hispanic",
         "8.82",
         "448413",
         "478041.0"
        ],
        [
         "51",
         "District of Columbia",
         "647484",
         "75466.36 ",
         "Hispanic",
         "9.17",
         "306674",
         "340810.0"
        ],
        [
         "52",
         "Florida",
         "19645772",
         "50690.19 ",
         "Hispanic",
         "21.34",
         "9600009",
         "10045763.0"
        ],
        [
         "54",
         "Alabama",
         "4830620",
         "43296.36 ",
         "Hispanic",
         "3.75",
         "2341093",
         "2489527.0"
        ],
        [
         "55",
         "Alaska",
         "733375",
         "70354.74 ",
         "Hispanic",
         "5.91",
         "384160",
         "349215.0"
        ],
        [
         "56",
         "Arizona",
         "6641928",
         "54207.82 ",
         "Hispanic",
         "29.57",
         "3299088",
         "3342840.0"
        ],
        [
         "57",
         "Arkansas",
         "2958208",
         "41935.63 ",
         "Hispanic",
         "6.22",
         "1451913",
         "1506295.0"
        ]
       ],
       "shape": {
        "columns": 7,
        "rows": 306
       }
      },
      "text/html": [
       "<div>\n",
       "<style scoped>\n",
       "    .dataframe tbody tr th:only-of-type {\n",
       "        vertical-align: middle;\n",
       "    }\n",
       "\n",
       "    .dataframe tbody tr th {\n",
       "        vertical-align: top;\n",
       "    }\n",
       "\n",
       "    .dataframe thead th {\n",
       "        text-align: right;\n",
       "    }\n",
       "</style>\n",
       "<table border=\"1\" class=\"dataframe\">\n",
       "  <thead>\n",
       "    <tr style=\"text-align: right;\">\n",
       "      <th></th>\n",
       "      <th>State</th>\n",
       "      <th>TotalPop</th>\n",
       "      <th>Income</th>\n",
       "      <th>race</th>\n",
       "      <th>PopPercentage</th>\n",
       "      <th>malePop</th>\n",
       "      <th>femalePop</th>\n",
       "    </tr>\n",
       "  </thead>\n",
       "  <tbody>\n",
       "    <tr>\n",
       "      <th>0</th>\n",
       "      <td>Rhode Island</td>\n",
       "      <td>1053661</td>\n",
       "      <td>59125.27</td>\n",
       "      <td>Hispanic</td>\n",
       "      <td>13.36</td>\n",
       "      <td>510388</td>\n",
       "      <td>543273.0</td>\n",
       "    </tr>\n",
       "    <tr>\n",
       "      <th>1</th>\n",
       "      <td>South Carolina</td>\n",
       "      <td>4777576</td>\n",
       "      <td>46296.81</td>\n",
       "      <td>Hispanic</td>\n",
       "      <td>5.06</td>\n",
       "      <td>2322409</td>\n",
       "      <td>2455167.0</td>\n",
       "    </tr>\n",
       "    <tr>\n",
       "      <th>2</th>\n",
       "      <td>South Dakota</td>\n",
       "      <td>843190</td>\n",
       "      <td>51805.41</td>\n",
       "      <td>Hispanic</td>\n",
       "      <td>3.24</td>\n",
       "      <td>423477</td>\n",
       "      <td>419713.0</td>\n",
       "    </tr>\n",
       "    <tr>\n",
       "      <th>3</th>\n",
       "      <td>Tennessee</td>\n",
       "      <td>6499615</td>\n",
       "      <td>47328.08</td>\n",
       "      <td>Hispanic</td>\n",
       "      <td>4.72</td>\n",
       "      <td>3167756</td>\n",
       "      <td>3331859.0</td>\n",
       "    </tr>\n",
       "    <tr>\n",
       "      <th>4</th>\n",
       "      <td>Texas</td>\n",
       "      <td>26538614</td>\n",
       "      <td>55874.52</td>\n",
       "      <td>Hispanic</td>\n",
       "      <td>38.05</td>\n",
       "      <td>13171316</td>\n",
       "      <td>13367298.0</td>\n",
       "    </tr>\n",
       "    <tr>\n",
       "      <th>...</th>\n",
       "      <td>...</td>\n",
       "      <td>...</td>\n",
       "      <td>...</td>\n",
       "      <td>...</td>\n",
       "      <td>...</td>\n",
       "      <td>...</td>\n",
       "      <td>...</td>\n",
       "    </tr>\n",
       "    <tr>\n",
       "      <th>354</th>\n",
       "      <td>Alabama</td>\n",
       "      <td>4830620</td>\n",
       "      <td>43296.36</td>\n",
       "      <td>Pacific</td>\n",
       "      <td>0.03</td>\n",
       "      <td>2341093</td>\n",
       "      <td>2489527.0</td>\n",
       "    </tr>\n",
       "    <tr>\n",
       "      <th>355</th>\n",
       "      <td>Alaska</td>\n",
       "      <td>733375</td>\n",
       "      <td>70354.74</td>\n",
       "      <td>Pacific</td>\n",
       "      <td>1.06</td>\n",
       "      <td>384160</td>\n",
       "      <td>349215.0</td>\n",
       "    </tr>\n",
       "    <tr>\n",
       "      <th>356</th>\n",
       "      <td>Arizona</td>\n",
       "      <td>6641928</td>\n",
       "      <td>54207.82</td>\n",
       "      <td>Pacific</td>\n",
       "      <td>0.17</td>\n",
       "      <td>3299088</td>\n",
       "      <td>3342840.0</td>\n",
       "    </tr>\n",
       "    <tr>\n",
       "      <th>357</th>\n",
       "      <td>Arkansas</td>\n",
       "      <td>2958208</td>\n",
       "      <td>41935.63</td>\n",
       "      <td>Pacific</td>\n",
       "      <td>0.15</td>\n",
       "      <td>1451913</td>\n",
       "      <td>1506295.0</td>\n",
       "    </tr>\n",
       "    <tr>\n",
       "      <th>358</th>\n",
       "      <td>California</td>\n",
       "      <td>38421464</td>\n",
       "      <td>67264.78</td>\n",
       "      <td>Pacific</td>\n",
       "      <td>0.35</td>\n",
       "      <td>19087135</td>\n",
       "      <td>19334329.0</td>\n",
       "    </tr>\n",
       "  </tbody>\n",
       "</table>\n",
       "<p>306 rows × 7 columns</p>\n",
       "</div>"
      ],
      "text/plain": [
       "              State  TotalPop     Income      race PopPercentage   malePop  \\\n",
       "0      Rhode Island   1053661  59125.27   Hispanic         13.36    510388   \n",
       "1    South Carolina   4777576  46296.81   Hispanic          5.06   2322409   \n",
       "2      South Dakota    843190  51805.41   Hispanic          3.24    423477   \n",
       "3         Tennessee   6499615  47328.08   Hispanic          4.72   3167756   \n",
       "4             Texas  26538614  55874.52   Hispanic         38.05  13171316   \n",
       "..              ...       ...        ...       ...           ...       ...   \n",
       "354         Alabama   4830620  43296.36    Pacific          0.03   2341093   \n",
       "355          Alaska    733375  70354.74    Pacific          1.06    384160   \n",
       "356         Arizona   6641928  54207.82    Pacific          0.17   3299088   \n",
       "357        Arkansas   2958208  41935.63    Pacific          0.15   1451913   \n",
       "358      California  38421464  67264.78    Pacific          0.35  19087135   \n",
       "\n",
       "      femalePop  \n",
       "0      543273.0  \n",
       "1     2455167.0  \n",
       "2      419713.0  \n",
       "3     3331859.0  \n",
       "4    13367298.0  \n",
       "..          ...  \n",
       "354   2489527.0  \n",
       "355    349215.0  \n",
       "356   3342840.0  \n",
       "357   1506295.0  \n",
       "358  19334329.0  \n",
       "\n",
       "[306 rows x 7 columns]"
      ]
     },
     "execution_count": 92,
     "metadata": {},
     "output_type": "execute_result"
    }
   ],
   "source": [
    "reshaped_data=reshaped_data.drop(columns=['GenderPop'])\n",
    "reshaped_data"
   ]
  },
  {
   "cell_type": "markdown",
   "id": "a4b30685",
   "metadata": {},
   "source": [
    "## NaN values"
   ]
  },
  {
   "cell_type": "code",
   "execution_count": 93,
   "id": "6969e646",
   "metadata": {},
   "outputs": [
    {
     "data": {
      "application/vnd.microsoft.datawrangler.viewer.v0+json": {
       "columns": [
        {
         "name": "index",
         "rawType": "int64",
         "type": "integer"
        },
        {
         "name": "State",
         "rawType": "object",
         "type": "string"
        },
        {
         "name": "TotalPop",
         "rawType": "int64",
         "type": "integer"
        },
        {
         "name": "Income",
         "rawType": "object",
         "type": "string"
        },
        {
         "name": "race",
         "rawType": "object",
         "type": "string"
        },
        {
         "name": "PopPercentage",
         "rawType": "object",
         "type": "unknown"
        },
        {
         "name": "malePop",
         "rawType": "int64",
         "type": "integer"
        },
        {
         "name": "femalePop",
         "rawType": "float64",
         "type": "float"
        }
       ],
       "ref": "7ad78523-dfe4-4d86-8ed2-9676043ad36d",
       "rows": [
        [
         "0",
         "Rhode Island",
         "1053661",
         "59125.27 ",
         "Hispanic",
         "13.36",
         "510388",
         "543273.0"
        ],
        [
         "1",
         "South Carolina",
         "4777576",
         "46296.81 ",
         "Hispanic",
         "5.06",
         "2322409",
         "2455167.0"
        ],
        [
         "2",
         "South Dakota",
         "843190",
         "51805.41 ",
         "Hispanic",
         "3.24",
         "423477",
         "419713.0"
        ],
        [
         "3",
         "Tennessee",
         "6499615",
         "47328.08 ",
         "Hispanic",
         "4.72",
         "3167756",
         "3331859.0"
        ],
        [
         "4",
         "Texas",
         "26538614",
         "55874.52 ",
         "Hispanic",
         "38.05",
         "13171316",
         "13367298.0"
        ],
        [
         "5",
         "Utah",
         "2903379",
         "63488.92 ",
         "Hispanic",
         "13.47",
         "1459229",
         "1444150.0"
        ],
        [
         "7",
         "Vermont",
         "626604",
         "55602.97 ",
         "Hispanic",
         "1.61",
         "308573",
         "318031.0"
        ],
        [
         "8",
         "Virginia",
         "8256630",
         "72866.01 ",
         "Hispanic",
         "8.01",
         "4060948",
         "4195682.0"
        ],
        [
         "9",
         "Washington",
         "6985464",
         "64493.77 ",
         "Hispanic",
         "11.14",
         "3487725",
         "3497739.0"
        ],
        [
         "10",
         "West Virginia",
         "1851420",
         "41437.11 ",
         "Hispanic",
         "1.29",
         "913631",
         "937789.0"
        ],
        [
         "11",
         "Wisconsin",
         "5742117",
         "53898.89 ",
         "Hispanic",
         "6.68",
         "2851385",
         "2890732.0"
        ],
        [
         "12",
         "Maryland",
         "5930538",
         "78765.40 ",
         "Hispanic",
         "8.47",
         "2872643",
         null
        ],
        [
         "13",
         "Massachusetts",
         "6705586",
         "72838.94 ",
         "Hispanic",
         "11.46",
         "3249650",
         "3455936.0"
        ],
        [
         "14",
         "Michigan",
         "9900571",
         "51201.83 ",
         "Hispanic",
         "4.63",
         "4861973",
         "5038598.0"
        ],
        [
         "15",
         "Minnesota",
         "5419171",
         "62820.83 ",
         "Hispanic",
         "5.15",
         "2692166",
         "2727005.0"
        ],
        [
         "16",
         "Mississippi",
         "2988081",
         "38909.92 ",
         "Hispanic",
         "2.84",
         "1451723",
         "1536358.0"
        ],
        [
         "17",
         "Missouri",
         "6045448",
         "49763.99 ",
         "Hispanic",
         "4.04",
         "2964003",
         "3081445.0"
        ],
        [
         "19",
         "Montana",
         "1014699",
         "47645.68 ",
         "Hispanic",
         "3.27",
         "510163",
         null
        ],
        [
         "20",
         "Nebraska",
         "1869365",
         "55916.47 ",
         "Hispanic",
         "9.20",
         "929606",
         "939759.0"
        ],
        [
         "21",
         "Nevada",
         "2798636",
         "55526.53 ",
         "Hispanic",
         "27.10",
         "1407735",
         "1390901.0"
        ],
        [
         "22",
         "New Hampshire",
         "1324201",
         "68728.86 ",
         "Hispanic",
         "3.32",
         "653484",
         "670717.0"
        ],
        [
         "23",
         "New Jersey",
         "8904413",
         "76581.08 ",
         "Hispanic",
         "18.75",
         "4343027",
         "4561386.0"
        ],
        [
         "24",
         "Ohio",
         "11575977",
         "49655.25 ",
         "Hispanic",
         "3.67",
         "5662893",
         "5913084.0"
        ],
        [
         "25",
         "Oklahoma",
         "3849733",
         "48100.85 ",
         "Hispanic",
         "10.08",
         "1906944",
         "1942789.0"
        ],
        [
         "26",
         "Oregon",
         "3939233",
         "54271.90 ",
         "Hispanic",
         "11.44",
         "1948453",
         "1990780.0"
        ],
        [
         "27",
         "Pennsylvania",
         "12779559",
         "56170.46 ",
         "Hispanic",
         "6.13",
         "6245344",
         "6534215.0"
        ],
        [
         "28",
         "Puerto Rico",
         "3583073",
         "20720.54 ",
         "Hispanic",
         "98.89",
         "1713860",
         "1869213.0"
        ],
        [
         "31",
         "New Mexico",
         "2084117",
         "47329.97 ",
         "Hispanic",
         "45.28",
         "1032414",
         "1051703.0"
        ],
        [
         "32",
         "New York",
         "19673174",
         "64290.75 ",
         "Hispanic",
         "17.24",
         "9541801",
         "10131373.0"
        ],
        [
         "33",
         "North Carolina",
         "9845333",
         "49937.46 ",
         "Hispanic",
         "8.46",
         "4795408",
         "5049925.0"
        ],
        [
         "34",
         "North Dakota",
         "721640",
         "58188.11 ",
         "Hispanic",
         "2.83",
         "367963",
         "353677.0"
        ],
        [
         "36",
         "Georgia",
         "10006693",
         "50811.08 ",
         "Hispanic",
         "8.42",
         "4883331",
         "5123362.0"
        ],
        [
         "37",
         "Hawaii",
         "1406299",
         "73264.43 ",
         "Hispanic",
         "9.19",
         "709871",
         "696428.0"
        ],
        [
         "38",
         "Idaho",
         "1616547",
         "48017.32 ",
         "Hispanic",
         "11.51",
         "810464",
         "806083.0"
        ],
        [
         "39",
         "Illinois",
         "12873761",
         "59587.05 ",
         "Hispanic",
         "15.60",
         "6316899",
         "6556862.0"
        ],
        [
         "40",
         "Indiana",
         "6568645",
         "48616.23 ",
         "Hispanic",
         "6.54",
         "3235263",
         "3333382.0"
        ],
        [
         "41",
         "Iowa",
         "3093526",
         "53017.75 ",
         "Hispanic",
         "5.30",
         "1534595",
         "1558931.0"
        ],
        [
         "43",
         "Kansas",
         "2892987",
         "53885.61 ",
         "Hispanic",
         "11.64",
         "1439862",
         "1453125.0"
        ],
        [
         "44",
         "Kentucky",
         "4397353",
         "45285.80 ",
         "Hispanic",
         "3.22",
         "2164208",
         "2233145.0"
        ],
        [
         "45",
         "Louisiana",
         "4625253",
         "44957.99 ",
         "Hispanic",
         "4.87",
         "2261156",
         "2364097.0"
        ],
        [
         "46",
         "Maine",
         "1329100",
         "49181.97 ",
         "Hispanic",
         "1.43",
         "650081",
         "679019.0"
        ],
        [
         "48",
         "Colorado",
         "5278906",
         "64657.80 ",
         "Hispanic",
         "20.78",
         "2648667",
         "2630239.0"
        ],
        [
         "49",
         "Connecticut",
         "3593222",
         "76146.56 ",
         "Hispanic",
         "15.60",
         "1751607",
         "1841615.0"
        ],
        [
         "50",
         "Delaware",
         "926454",
         "61827.98 ",
         "Hispanic",
         "8.82",
         "448413",
         "478041.0"
        ],
        [
         "51",
         "District of Columbia",
         "647484",
         "75466.36 ",
         "Hispanic",
         "9.17",
         "306674",
         "340810.0"
        ],
        [
         "52",
         "Florida",
         "19645772",
         "50690.19 ",
         "Hispanic",
         "21.34",
         "9600009",
         "10045763.0"
        ],
        [
         "54",
         "Alabama",
         "4830620",
         "43296.36 ",
         "Hispanic",
         "3.75",
         "2341093",
         "2489527.0"
        ],
        [
         "55",
         "Alaska",
         "733375",
         "70354.74 ",
         "Hispanic",
         "5.91",
         "384160",
         "349215.0"
        ],
        [
         "56",
         "Arizona",
         "6641928",
         "54207.82 ",
         "Hispanic",
         "29.57",
         "3299088",
         "3342840.0"
        ],
        [
         "57",
         "Arkansas",
         "2958208",
         "41935.63 ",
         "Hispanic",
         "6.22",
         "1451913",
         "1506295.0"
        ]
       ],
       "shape": {
        "columns": 7,
        "rows": 306
       }
      },
      "text/html": [
       "<div>\n",
       "<style scoped>\n",
       "    .dataframe tbody tr th:only-of-type {\n",
       "        vertical-align: middle;\n",
       "    }\n",
       "\n",
       "    .dataframe tbody tr th {\n",
       "        vertical-align: top;\n",
       "    }\n",
       "\n",
       "    .dataframe thead th {\n",
       "        text-align: right;\n",
       "    }\n",
       "</style>\n",
       "<table border=\"1\" class=\"dataframe\">\n",
       "  <thead>\n",
       "    <tr style=\"text-align: right;\">\n",
       "      <th></th>\n",
       "      <th>State</th>\n",
       "      <th>TotalPop</th>\n",
       "      <th>Income</th>\n",
       "      <th>race</th>\n",
       "      <th>PopPercentage</th>\n",
       "      <th>malePop</th>\n",
       "      <th>femalePop</th>\n",
       "    </tr>\n",
       "  </thead>\n",
       "  <tbody>\n",
       "    <tr>\n",
       "      <th>0</th>\n",
       "      <td>Rhode Island</td>\n",
       "      <td>1053661</td>\n",
       "      <td>59125.27</td>\n",
       "      <td>Hispanic</td>\n",
       "      <td>13.36</td>\n",
       "      <td>510388</td>\n",
       "      <td>543273.0</td>\n",
       "    </tr>\n",
       "    <tr>\n",
       "      <th>1</th>\n",
       "      <td>South Carolina</td>\n",
       "      <td>4777576</td>\n",
       "      <td>46296.81</td>\n",
       "      <td>Hispanic</td>\n",
       "      <td>5.06</td>\n",
       "      <td>2322409</td>\n",
       "      <td>2455167.0</td>\n",
       "    </tr>\n",
       "    <tr>\n",
       "      <th>2</th>\n",
       "      <td>South Dakota</td>\n",
       "      <td>843190</td>\n",
       "      <td>51805.41</td>\n",
       "      <td>Hispanic</td>\n",
       "      <td>3.24</td>\n",
       "      <td>423477</td>\n",
       "      <td>419713.0</td>\n",
       "    </tr>\n",
       "    <tr>\n",
       "      <th>3</th>\n",
       "      <td>Tennessee</td>\n",
       "      <td>6499615</td>\n",
       "      <td>47328.08</td>\n",
       "      <td>Hispanic</td>\n",
       "      <td>4.72</td>\n",
       "      <td>3167756</td>\n",
       "      <td>3331859.0</td>\n",
       "    </tr>\n",
       "    <tr>\n",
       "      <th>4</th>\n",
       "      <td>Texas</td>\n",
       "      <td>26538614</td>\n",
       "      <td>55874.52</td>\n",
       "      <td>Hispanic</td>\n",
       "      <td>38.05</td>\n",
       "      <td>13171316</td>\n",
       "      <td>13367298.0</td>\n",
       "    </tr>\n",
       "    <tr>\n",
       "      <th>...</th>\n",
       "      <td>...</td>\n",
       "      <td>...</td>\n",
       "      <td>...</td>\n",
       "      <td>...</td>\n",
       "      <td>...</td>\n",
       "      <td>...</td>\n",
       "      <td>...</td>\n",
       "    </tr>\n",
       "    <tr>\n",
       "      <th>354</th>\n",
       "      <td>Alabama</td>\n",
       "      <td>4830620</td>\n",
       "      <td>43296.36</td>\n",
       "      <td>Pacific</td>\n",
       "      <td>0.03</td>\n",
       "      <td>2341093</td>\n",
       "      <td>2489527.0</td>\n",
       "    </tr>\n",
       "    <tr>\n",
       "      <th>355</th>\n",
       "      <td>Alaska</td>\n",
       "      <td>733375</td>\n",
       "      <td>70354.74</td>\n",
       "      <td>Pacific</td>\n",
       "      <td>1.06</td>\n",
       "      <td>384160</td>\n",
       "      <td>349215.0</td>\n",
       "    </tr>\n",
       "    <tr>\n",
       "      <th>356</th>\n",
       "      <td>Arizona</td>\n",
       "      <td>6641928</td>\n",
       "      <td>54207.82</td>\n",
       "      <td>Pacific</td>\n",
       "      <td>0.17</td>\n",
       "      <td>3299088</td>\n",
       "      <td>3342840.0</td>\n",
       "    </tr>\n",
       "    <tr>\n",
       "      <th>357</th>\n",
       "      <td>Arkansas</td>\n",
       "      <td>2958208</td>\n",
       "      <td>41935.63</td>\n",
       "      <td>Pacific</td>\n",
       "      <td>0.15</td>\n",
       "      <td>1451913</td>\n",
       "      <td>1506295.0</td>\n",
       "    </tr>\n",
       "    <tr>\n",
       "      <th>358</th>\n",
       "      <td>California</td>\n",
       "      <td>38421464</td>\n",
       "      <td>67264.78</td>\n",
       "      <td>Pacific</td>\n",
       "      <td>0.35</td>\n",
       "      <td>19087135</td>\n",
       "      <td>19334329.0</td>\n",
       "    </tr>\n",
       "  </tbody>\n",
       "</table>\n",
       "<p>306 rows × 7 columns</p>\n",
       "</div>"
      ],
      "text/plain": [
       "              State  TotalPop     Income      race PopPercentage   malePop  \\\n",
       "0      Rhode Island   1053661  59125.27   Hispanic         13.36    510388   \n",
       "1    South Carolina   4777576  46296.81   Hispanic          5.06   2322409   \n",
       "2      South Dakota    843190  51805.41   Hispanic          3.24    423477   \n",
       "3         Tennessee   6499615  47328.08   Hispanic          4.72   3167756   \n",
       "4             Texas  26538614  55874.52   Hispanic         38.05  13171316   \n",
       "..              ...       ...        ...       ...           ...       ...   \n",
       "354         Alabama   4830620  43296.36    Pacific          0.03   2341093   \n",
       "355          Alaska    733375  70354.74    Pacific          1.06    384160   \n",
       "356         Arizona   6641928  54207.82    Pacific          0.17   3299088   \n",
       "357        Arkansas   2958208  41935.63    Pacific          0.15   1451913   \n",
       "358      California  38421464  67264.78    Pacific          0.35  19087135   \n",
       "\n",
       "      femalePop  \n",
       "0      543273.0  \n",
       "1     2455167.0  \n",
       "2      419713.0  \n",
       "3     3331859.0  \n",
       "4    13367298.0  \n",
       "..          ...  \n",
       "354   2489527.0  \n",
       "355    349215.0  \n",
       "356   3342840.0  \n",
       "357   1506295.0  \n",
       "358  19334329.0  \n",
       "\n",
       "[306 rows x 7 columns]"
      ]
     },
     "execution_count": 93,
     "metadata": {},
     "output_type": "execute_result"
    }
   ],
   "source": [
    "reshaped_data"
   ]
  },
  {
   "cell_type": "code",
   "execution_count": 94,
   "id": "4a67ef57",
   "metadata": {},
   "outputs": [
    {
     "data": {
      "application/vnd.microsoft.datawrangler.viewer.v0+json": {
       "columns": [
        {
         "name": "index",
         "rawType": "object",
         "type": "string"
        },
        {
         "name": "0",
         "rawType": "int64",
         "type": "integer"
        }
       ],
       "ref": "b1eb40f1-fec0-4894-9605-983a8cd6ffae",
       "rows": [
        [
         "State",
         "0"
        ],
        [
         "TotalPop",
         "0"
        ],
        [
         "Income",
         "0"
        ],
        [
         "race",
         "0"
        ],
        [
         "PopPercentage",
         "4"
        ],
        [
         "malePop",
         "0"
        ],
        [
         "femalePop",
         "12"
        ]
       ],
       "shape": {
        "columns": 1,
        "rows": 7
       }
      },
      "text/plain": [
       "State             0\n",
       "TotalPop          0\n",
       "Income            0\n",
       "race              0\n",
       "PopPercentage     4\n",
       "malePop           0\n",
       "femalePop        12\n",
       "dtype: int64"
      ]
     },
     "execution_count": 94,
     "metadata": {},
     "output_type": "execute_result"
    }
   ],
   "source": [
    "reshaped_data.isna().sum()"
   ]
  },
  {
   "cell_type": "markdown",
   "id": "0e68d56f",
   "metadata": {},
   "source": [
    "## Showing Missing Data "
   ]
  },
  {
   "cell_type": "code",
   "execution_count": 95,
   "id": "4bcc6ef8",
   "metadata": {},
   "outputs": [
    {
     "data": {
      "application/vnd.microsoft.datawrangler.viewer.v0+json": {
       "columns": [
        {
         "name": "index",
         "rawType": "int64",
         "type": "integer"
        },
        {
         "name": "State",
         "rawType": "object",
         "type": "string"
        },
        {
         "name": "race",
         "rawType": "object",
         "type": "string"
        },
        {
         "name": "TotalPop",
         "rawType": "int64",
         "type": "integer"
        },
        {
         "name": "PopPercentage",
         "rawType": "object",
         "type": "unknown"
        },
        {
         "name": "femalePop",
         "rawType": "float64",
         "type": "float"
        }
       ],
       "ref": "51e15ce6-4cae-464f-a398-f311eab7c1cf",
       "rows": [
        [
         "348",
         "Colorado",
         "Pacific",
         "5278906",
         null,
         "2630239.0"
        ],
        [
         "350",
         "Delaware",
         "Pacific",
         "926454",
         null,
         "478041.0"
        ],
        [
         "343",
         "Kansas",
         "Pacific",
         "2892987",
         null,
         "1453125.0"
        ],
        [
         "12",
         "Maryland",
         "Hispanic",
         "5930538",
         "8.47",
         null
        ],
        [
         "72",
         "Maryland",
         "White",
         "5930538",
         "52.68",
         null
        ],
        [
         "132",
         "Maryland",
         "Black",
         "5930538",
         "30.68",
         null
        ],
        [
         "192",
         "Maryland",
         "Native",
         "5930538",
         "0.20",
         null
        ],
        [
         "252",
         "Maryland",
         "Asian",
         "5930538",
         "5.33",
         null
        ],
        [
         "312",
         "Maryland",
         "Pacific",
         "5930538",
         "0.04",
         null
        ],
        [
         "19",
         "Montana",
         "Hispanic",
         "1014699",
         "3.27",
         null
        ],
        [
         "79",
         "Montana",
         "White",
         "1014699",
         "86.42",
         null
        ],
        [
         "139",
         "Montana",
         "Black",
         "1014699",
         "0.43",
         null
        ],
        [
         "199",
         "Montana",
         "Native",
         "1014699",
         "7.06",
         null
        ],
        [
         "259",
         "Montana",
         "Asian",
         "1014699",
         "0.57",
         null
        ],
        [
         "319",
         "Montana",
         "Pacific",
         "1014699",
         "0.07",
         null
        ],
        [
         "334",
         "North Dakota",
         "Pacific",
         "721640",
         null,
         "353677.0"
        ]
       ],
       "shape": {
        "columns": 5,
        "rows": 16
       }
      },
      "text/html": [
       "<div>\n",
       "<style scoped>\n",
       "    .dataframe tbody tr th:only-of-type {\n",
       "        vertical-align: middle;\n",
       "    }\n",
       "\n",
       "    .dataframe tbody tr th {\n",
       "        vertical-align: top;\n",
       "    }\n",
       "\n",
       "    .dataframe thead th {\n",
       "        text-align: right;\n",
       "    }\n",
       "</style>\n",
       "<table border=\"1\" class=\"dataframe\">\n",
       "  <thead>\n",
       "    <tr style=\"text-align: right;\">\n",
       "      <th></th>\n",
       "      <th>State</th>\n",
       "      <th>race</th>\n",
       "      <th>TotalPop</th>\n",
       "      <th>PopPercentage</th>\n",
       "      <th>femalePop</th>\n",
       "    </tr>\n",
       "  </thead>\n",
       "  <tbody>\n",
       "    <tr>\n",
       "      <th>348</th>\n",
       "      <td>Colorado</td>\n",
       "      <td>Pacific</td>\n",
       "      <td>5278906</td>\n",
       "      <td>NaN</td>\n",
       "      <td>2630239.0</td>\n",
       "    </tr>\n",
       "    <tr>\n",
       "      <th>350</th>\n",
       "      <td>Delaware</td>\n",
       "      <td>Pacific</td>\n",
       "      <td>926454</td>\n",
       "      <td>NaN</td>\n",
       "      <td>478041.0</td>\n",
       "    </tr>\n",
       "    <tr>\n",
       "      <th>343</th>\n",
       "      <td>Kansas</td>\n",
       "      <td>Pacific</td>\n",
       "      <td>2892987</td>\n",
       "      <td>NaN</td>\n",
       "      <td>1453125.0</td>\n",
       "    </tr>\n",
       "    <tr>\n",
       "      <th>12</th>\n",
       "      <td>Maryland</td>\n",
       "      <td>Hispanic</td>\n",
       "      <td>5930538</td>\n",
       "      <td>8.47</td>\n",
       "      <td>NaN</td>\n",
       "    </tr>\n",
       "    <tr>\n",
       "      <th>72</th>\n",
       "      <td>Maryland</td>\n",
       "      <td>White</td>\n",
       "      <td>5930538</td>\n",
       "      <td>52.68</td>\n",
       "      <td>NaN</td>\n",
       "    </tr>\n",
       "    <tr>\n",
       "      <th>132</th>\n",
       "      <td>Maryland</td>\n",
       "      <td>Black</td>\n",
       "      <td>5930538</td>\n",
       "      <td>30.68</td>\n",
       "      <td>NaN</td>\n",
       "    </tr>\n",
       "    <tr>\n",
       "      <th>192</th>\n",
       "      <td>Maryland</td>\n",
       "      <td>Native</td>\n",
       "      <td>5930538</td>\n",
       "      <td>0.20</td>\n",
       "      <td>NaN</td>\n",
       "    </tr>\n",
       "    <tr>\n",
       "      <th>252</th>\n",
       "      <td>Maryland</td>\n",
       "      <td>Asian</td>\n",
       "      <td>5930538</td>\n",
       "      <td>5.33</td>\n",
       "      <td>NaN</td>\n",
       "    </tr>\n",
       "    <tr>\n",
       "      <th>312</th>\n",
       "      <td>Maryland</td>\n",
       "      <td>Pacific</td>\n",
       "      <td>5930538</td>\n",
       "      <td>0.04</td>\n",
       "      <td>NaN</td>\n",
       "    </tr>\n",
       "    <tr>\n",
       "      <th>19</th>\n",
       "      <td>Montana</td>\n",
       "      <td>Hispanic</td>\n",
       "      <td>1014699</td>\n",
       "      <td>3.27</td>\n",
       "      <td>NaN</td>\n",
       "    </tr>\n",
       "    <tr>\n",
       "      <th>79</th>\n",
       "      <td>Montana</td>\n",
       "      <td>White</td>\n",
       "      <td>1014699</td>\n",
       "      <td>86.42</td>\n",
       "      <td>NaN</td>\n",
       "    </tr>\n",
       "    <tr>\n",
       "      <th>139</th>\n",
       "      <td>Montana</td>\n",
       "      <td>Black</td>\n",
       "      <td>1014699</td>\n",
       "      <td>0.43</td>\n",
       "      <td>NaN</td>\n",
       "    </tr>\n",
       "    <tr>\n",
       "      <th>199</th>\n",
       "      <td>Montana</td>\n",
       "      <td>Native</td>\n",
       "      <td>1014699</td>\n",
       "      <td>7.06</td>\n",
       "      <td>NaN</td>\n",
       "    </tr>\n",
       "    <tr>\n",
       "      <th>259</th>\n",
       "      <td>Montana</td>\n",
       "      <td>Asian</td>\n",
       "      <td>1014699</td>\n",
       "      <td>0.57</td>\n",
       "      <td>NaN</td>\n",
       "    </tr>\n",
       "    <tr>\n",
       "      <th>319</th>\n",
       "      <td>Montana</td>\n",
       "      <td>Pacific</td>\n",
       "      <td>1014699</td>\n",
       "      <td>0.07</td>\n",
       "      <td>NaN</td>\n",
       "    </tr>\n",
       "    <tr>\n",
       "      <th>334</th>\n",
       "      <td>North Dakota</td>\n",
       "      <td>Pacific</td>\n",
       "      <td>721640</td>\n",
       "      <td>NaN</td>\n",
       "      <td>353677.0</td>\n",
       "    </tr>\n",
       "  </tbody>\n",
       "</table>\n",
       "</div>"
      ],
      "text/plain": [
       "            State      race  TotalPop PopPercentage  femalePop\n",
       "348      Colorado   Pacific   5278906           NaN  2630239.0\n",
       "350      Delaware   Pacific    926454           NaN   478041.0\n",
       "343        Kansas   Pacific   2892987           NaN  1453125.0\n",
       "12       Maryland  Hispanic   5930538          8.47        NaN\n",
       "72       Maryland     White   5930538         52.68        NaN\n",
       "132      Maryland     Black   5930538         30.68        NaN\n",
       "192      Maryland    Native   5930538          0.20        NaN\n",
       "252      Maryland     Asian   5930538          5.33        NaN\n",
       "312      Maryland   Pacific   5930538          0.04        NaN\n",
       "19        Montana  Hispanic   1014699          3.27        NaN\n",
       "79        Montana     White   1014699         86.42        NaN\n",
       "139       Montana     Black   1014699          0.43        NaN\n",
       "199       Montana    Native   1014699          7.06        NaN\n",
       "259       Montana     Asian   1014699          0.57        NaN\n",
       "319       Montana   Pacific   1014699          0.07        NaN\n",
       "334  North Dakota   Pacific    721640           NaN   353677.0"
      ]
     },
     "execution_count": 95,
     "metadata": {},
     "output_type": "execute_result"
    }
   ],
   "source": [
    "missing_data = reshaped_data[reshaped_data.isnull().any(axis=1)]\n",
    "\n",
    "\n",
    "missing_data[['State', 'race', 'TotalPop', 'PopPercentage', 'femalePop']].sort_values('State')"
   ]
  },
  {
   "cell_type": "code",
   "execution_count": 96,
   "id": "aa560a13",
   "metadata": {},
   "outputs": [
    {
     "data": {
      "image/png": "[encoded data removed]",
      "text/plain": [
       "<Figure size 640x480 with 1 Axes>"
      ]
     },
     "metadata": {},
     "output_type": "display_data"
    }
   ],
   "source": [
    "sns.heatmap(reshaped_data.isnull(), cbar=False)\n",
    "plt.show()"
   ]
  },
  {
   "cell_type": "markdown",
   "id": "5c8e0527",
   "metadata": {},
   "source": [
    "## Handling Missing Data "
   ]
  },
  {
   "cell_type": "code",
   "execution_count": 97,
   "id": "45e054a2",
   "metadata": {},
   "outputs": [
    {
     "data": {
      "text/plain": [
       "<Axes: >"
      ]
     },
     "execution_count": 97,
     "metadata": {},
     "output_type": "execute_result"
    },
    {
     "data": {
      "image/png": "[encoded data removed]",
      "text/plain": [
       "<Figure size 2500x1000 with 2 Axes>"
      ]
     },
     "metadata": {},
     "output_type": "display_data"
    }
   ],
   "source": [
    "msno.matrix(reshaped_data)"
   ]
  },
  {
   "cell_type": "markdown",
   "id": "9a78eae3",
   "metadata": {},
   "source": [
    "## Listwise deletion"
   ]
  },
  {
   "cell_type": "code",
   "execution_count": 104,
   "id": "124f48e1",
   "metadata": {},
   "outputs": [
    {
     "data": {
      "application/vnd.microsoft.datawrangler.viewer.v0+json": {
       "columns": [
        {
         "name": "index",
         "rawType": "object",
         "type": "string"
        },
        {
         "name": "0",
         "rawType": "int64",
         "type": "integer"
        }
       ],
       "ref": "342cb606-27bc-4120-8fc7-fb10444fd328",
       "rows": [
        [
         "State",
         "0"
        ],
        [
         "TotalPop",
         "0"
        ],
        [
         "Income",
         "0"
        ],
        [
         "race",
         "0"
        ],
        [
         "PopPercentage",
         "0"
        ],
        [
         "malePop",
         "0"
        ],
        [
         "femalePop",
         "0"
        ]
       ],
       "shape": {
        "columns": 1,
        "rows": 7
       }
      },
      "text/plain": [
       "State            0\n",
       "TotalPop         0\n",
       "Income           0\n",
       "race             0\n",
       "PopPercentage    0\n",
       "malePop          0\n",
       "femalePop        0\n",
       "dtype: int64"
      ]
     },
     "execution_count": 104,
     "metadata": {},
     "output_type": "execute_result"
    }
   ],
   "source": [
    "reshaped_data.dropna(inplace=True)\n",
    "reshaped_data.isna().sum()"
   ]
  },
  {
   "cell_type": "code",
   "execution_count": 105,
   "id": "bb833ea6",
   "metadata": {},
   "outputs": [
    {
     "data": {
      "application/vnd.microsoft.datawrangler.viewer.v0+json": {
       "columns": [
        {
         "name": "index",
         "rawType": "int64",
         "type": "integer"
        },
        {
         "name": "State",
         "rawType": "object",
         "type": "string"
        },
        {
         "name": "TotalPop",
         "rawType": "int64",
         "type": "integer"
        },
        {
         "name": "Income",
         "rawType": "object",
         "type": "string"
        },
        {
         "name": "race",
         "rawType": "object",
         "type": "string"
        },
        {
         "name": "PopPercentage",
         "rawType": "object",
         "type": "string"
        },
        {
         "name": "malePop",
         "rawType": "int64",
         "type": "integer"
        },
        {
         "name": "femalePop",
         "rawType": "float64",
         "type": "float"
        }
       ],
       "ref": "3ebf03e2-910a-4724-994d-548c6c894630",
       "rows": [
        [
         "0",
         "Rhode Island",
         "1053661",
         "59125.27 ",
         "Hispanic",
         "13.36",
         "510388",
         "543273.0"
        ],
        [
         "1",
         "South Carolina",
         "4777576",
         "46296.81 ",
         "Hispanic",
         "5.06",
         "2322409",
         "2455167.0"
        ],
        [
         "2",
         "South Dakota",
         "843190",
         "51805.41 ",
         "Hispanic",
         "3.24",
         "423477",
         "419713.0"
        ],
        [
         "3",
         "Tennessee",
         "6499615",
         "47328.08 ",
         "Hispanic",
         "4.72",
         "3167756",
         "3331859.0"
        ],
        [
         "4",
         "Texas",
         "26538614",
         "55874.52 ",
         "Hispanic",
         "38.05",
         "13171316",
         "13367298.0"
        ],
        [
         "5",
         "Utah",
         "2903379",
         "63488.92 ",
         "Hispanic",
         "13.47",
         "1459229",
         "1444150.0"
        ],
        [
         "7",
         "Vermont",
         "626604",
         "55602.97 ",
         "Hispanic",
         "1.61",
         "308573",
         "318031.0"
        ],
        [
         "8",
         "Virginia",
         "8256630",
         "72866.01 ",
         "Hispanic",
         "8.01",
         "4060948",
         "4195682.0"
        ],
        [
         "9",
         "Washington",
         "6985464",
         "64493.77 ",
         "Hispanic",
         "11.14",
         "3487725",
         "3497739.0"
        ],
        [
         "10",
         "West Virginia",
         "1851420",
         "41437.11 ",
         "Hispanic",
         "1.29",
         "913631",
         "937789.0"
        ],
        [
         "11",
         "Wisconsin",
         "5742117",
         "53898.89 ",
         "Hispanic",
         "6.68",
         "2851385",
         "2890732.0"
        ],
        [
         "13",
         "Massachusetts",
         "6705586",
         "72838.94 ",
         "Hispanic",
         "11.46",
         "3249650",
         "3455936.0"
        ],
        [
         "14",
         "Michigan",
         "9900571",
         "51201.83 ",
         "Hispanic",
         "4.63",
         "4861973",
         "5038598.0"
        ],
        [
         "15",
         "Minnesota",
         "5419171",
         "62820.83 ",
         "Hispanic",
         "5.15",
         "2692166",
         "2727005.0"
        ],
        [
         "16",
         "Mississippi",
         "2988081",
         "38909.92 ",
         "Hispanic",
         "2.84",
         "1451723",
         "1536358.0"
        ],
        [
         "17",
         "Missouri",
         "6045448",
         "49763.99 ",
         "Hispanic",
         "4.04",
         "2964003",
         "3081445.0"
        ],
        [
         "20",
         "Nebraska",
         "1869365",
         "55916.47 ",
         "Hispanic",
         "9.20",
         "929606",
         "939759.0"
        ],
        [
         "21",
         "Nevada",
         "2798636",
         "55526.53 ",
         "Hispanic",
         "27.10",
         "1407735",
         "1390901.0"
        ],
        [
         "22",
         "New Hampshire",
         "1324201",
         "68728.86 ",
         "Hispanic",
         "3.32",
         "653484",
         "670717.0"
        ],
        [
         "23",
         "New Jersey",
         "8904413",
         "76581.08 ",
         "Hispanic",
         "18.75",
         "4343027",
         "4561386.0"
        ],
        [
         "24",
         "Ohio",
         "11575977",
         "49655.25 ",
         "Hispanic",
         "3.67",
         "5662893",
         "5913084.0"
        ],
        [
         "25",
         "Oklahoma",
         "3849733",
         "48100.85 ",
         "Hispanic",
         "10.08",
         "1906944",
         "1942789.0"
        ],
        [
         "26",
         "Oregon",
         "3939233",
         "54271.90 ",
         "Hispanic",
         "11.44",
         "1948453",
         "1990780.0"
        ],
        [
         "27",
         "Pennsylvania",
         "12779559",
         "56170.46 ",
         "Hispanic",
         "6.13",
         "6245344",
         "6534215.0"
        ],
        [
         "28",
         "Puerto Rico",
         "3583073",
         "20720.54 ",
         "Hispanic",
         "98.89",
         "1713860",
         "1869213.0"
        ],
        [
         "31",
         "New Mexico",
         "2084117",
         "47329.97 ",
         "Hispanic",
         "45.28",
         "1032414",
         "1051703.0"
        ],
        [
         "32",
         "New York",
         "19673174",
         "64290.75 ",
         "Hispanic",
         "17.24",
         "9541801",
         "10131373.0"
        ],
        [
         "33",
         "North Carolina",
         "9845333",
         "49937.46 ",
         "Hispanic",
         "8.46",
         "4795408",
         "5049925.0"
        ],
        [
         "34",
         "North Dakota",
         "721640",
         "58188.11 ",
         "Hispanic",
         "2.83",
         "367963",
         "353677.0"
        ],
        [
         "36",
         "Georgia",
         "10006693",
         "50811.08 ",
         "Hispanic",
         "8.42",
         "4883331",
         "5123362.0"
        ],
        [
         "37",
         "Hawaii",
         "1406299",
         "73264.43 ",
         "Hispanic",
         "9.19",
         "709871",
         "696428.0"
        ],
        [
         "38",
         "Idaho",
         "1616547",
         "48017.32 ",
         "Hispanic",
         "11.51",
         "810464",
         "806083.0"
        ],
        [
         "39",
         "Illinois",
         "12873761",
         "59587.05 ",
         "Hispanic",
         "15.60",
         "6316899",
         "6556862.0"
        ],
        [
         "40",
         "Indiana",
         "6568645",
         "48616.23 ",
         "Hispanic",
         "6.54",
         "3235263",
         "3333382.0"
        ],
        [
         "41",
         "Iowa",
         "3093526",
         "53017.75 ",
         "Hispanic",
         "5.30",
         "1534595",
         "1558931.0"
        ],
        [
         "43",
         "Kansas",
         "2892987",
         "53885.61 ",
         "Hispanic",
         "11.64",
         "1439862",
         "1453125.0"
        ],
        [
         "44",
         "Kentucky",
         "4397353",
         "45285.80 ",
         "Hispanic",
         "3.22",
         "2164208",
         "2233145.0"
        ],
        [
         "45",
         "Louisiana",
         "4625253",
         "44957.99 ",
         "Hispanic",
         "4.87",
         "2261156",
         "2364097.0"
        ],
        [
         "46",
         "Maine",
         "1329100",
         "49181.97 ",
         "Hispanic",
         "1.43",
         "650081",
         "679019.0"
        ],
        [
         "48",
         "Colorado",
         "5278906",
         "64657.80 ",
         "Hispanic",
         "20.78",
         "2648667",
         "2630239.0"
        ],
        [
         "49",
         "Connecticut",
         "3593222",
         "76146.56 ",
         "Hispanic",
         "15.60",
         "1751607",
         "1841615.0"
        ],
        [
         "50",
         "Delaware",
         "926454",
         "61827.98 ",
         "Hispanic",
         "8.82",
         "448413",
         "478041.0"
        ],
        [
         "51",
         "District of Columbia",
         "647484",
         "75466.36 ",
         "Hispanic",
         "9.17",
         "306674",
         "340810.0"
        ],
        [
         "52",
         "Florida",
         "19645772",
         "50690.19 ",
         "Hispanic",
         "21.34",
         "9600009",
         "10045763.0"
        ],
        [
         "54",
         "Alabama",
         "4830620",
         "43296.36 ",
         "Hispanic",
         "3.75",
         "2341093",
         "2489527.0"
        ],
        [
         "55",
         "Alaska",
         "733375",
         "70354.74 ",
         "Hispanic",
         "5.91",
         "384160",
         "349215.0"
        ],
        [
         "56",
         "Arizona",
         "6641928",
         "54207.82 ",
         "Hispanic",
         "29.57",
         "3299088",
         "3342840.0"
        ],
        [
         "57",
         "Arkansas",
         "2958208",
         "41935.63 ",
         "Hispanic",
         "6.22",
         "1451913",
         "1506295.0"
        ],
        [
         "58",
         "California",
         "38421464",
         "67264.78 ",
         "Hispanic",
         "37.29",
         "19087135",
         "19334329.0"
        ],
        [
         "60",
         "Rhode Island",
         "1053661",
         "59125.27 ",
         "White",
         "74.33",
         "510388",
         "543273.0"
        ]
       ],
       "shape": {
        "columns": 7,
        "rows": 290
       }
      },
      "text/html": [
       "<div>\n",
       "<style scoped>\n",
       "    .dataframe tbody tr th:only-of-type {\n",
       "        vertical-align: middle;\n",
       "    }\n",
       "\n",
       "    .dataframe tbody tr th {\n",
       "        vertical-align: top;\n",
       "    }\n",
       "\n",
       "    .dataframe thead th {\n",
       "        text-align: right;\n",
       "    }\n",
       "</style>\n",
       "<table border=\"1\" class=\"dataframe\">\n",
       "  <thead>\n",
       "    <tr style=\"text-align: right;\">\n",
       "      <th></th>\n",
       "      <th>State</th>\n",
       "      <th>TotalPop</th>\n",
       "      <th>Income</th>\n",
       "      <th>race</th>\n",
       "      <th>PopPercentage</th>\n",
       "      <th>malePop</th>\n",
       "      <th>femalePop</th>\n",
       "    </tr>\n",
       "  </thead>\n",
       "  <tbody>\n",
       "    <tr>\n",
       "      <th>0</th>\n",
       "      <td>Rhode Island</td>\n",
       "      <td>1053661</td>\n",
       "      <td>59125.27</td>\n",
       "      <td>Hispanic</td>\n",
       "      <td>13.36</td>\n",
       "      <td>510388</td>\n",
       "      <td>543273.0</td>\n",
       "    </tr>\n",
       "    <tr>\n",
       "      <th>1</th>\n",
       "      <td>South Carolina</td>\n",
       "      <td>4777576</td>\n",
       "      <td>46296.81</td>\n",
       "      <td>Hispanic</td>\n",
       "      <td>5.06</td>\n",
       "      <td>2322409</td>\n",
       "      <td>2455167.0</td>\n",
       "    </tr>\n",
       "    <tr>\n",
       "      <th>2</th>\n",
       "      <td>South Dakota</td>\n",
       "      <td>843190</td>\n",
       "      <td>51805.41</td>\n",
       "      <td>Hispanic</td>\n",
       "      <td>3.24</td>\n",
       "      <td>423477</td>\n",
       "      <td>419713.0</td>\n",
       "    </tr>\n",
       "    <tr>\n",
       "      <th>3</th>\n",
       "      <td>Tennessee</td>\n",
       "      <td>6499615</td>\n",
       "      <td>47328.08</td>\n",
       "      <td>Hispanic</td>\n",
       "      <td>4.72</td>\n",
       "      <td>3167756</td>\n",
       "      <td>3331859.0</td>\n",
       "    </tr>\n",
       "    <tr>\n",
       "      <th>4</th>\n",
       "      <td>Texas</td>\n",
       "      <td>26538614</td>\n",
       "      <td>55874.52</td>\n",
       "      <td>Hispanic</td>\n",
       "      <td>38.05</td>\n",
       "      <td>13171316</td>\n",
       "      <td>13367298.0</td>\n",
       "    </tr>\n",
       "    <tr>\n",
       "      <th>...</th>\n",
       "      <td>...</td>\n",
       "      <td>...</td>\n",
       "      <td>...</td>\n",
       "      <td>...</td>\n",
       "      <td>...</td>\n",
       "      <td>...</td>\n",
       "      <td>...</td>\n",
       "    </tr>\n",
       "    <tr>\n",
       "      <th>354</th>\n",
       "      <td>Alabama</td>\n",
       "      <td>4830620</td>\n",
       "      <td>43296.36</td>\n",
       "      <td>Pacific</td>\n",
       "      <td>0.03</td>\n",
       "      <td>2341093</td>\n",
       "      <td>2489527.0</td>\n",
       "    </tr>\n",
       "    <tr>\n",
       "      <th>355</th>\n",
       "      <td>Alaska</td>\n",
       "      <td>733375</td>\n",
       "      <td>70354.74</td>\n",
       "      <td>Pacific</td>\n",
       "      <td>1.06</td>\n",
       "      <td>384160</td>\n",
       "      <td>349215.0</td>\n",
       "    </tr>\n",
       "    <tr>\n",
       "      <th>356</th>\n",
       "      <td>Arizona</td>\n",
       "      <td>6641928</td>\n",
       "      <td>54207.82</td>\n",
       "      <td>Pacific</td>\n",
       "      <td>0.17</td>\n",
       "      <td>3299088</td>\n",
       "      <td>3342840.0</td>\n",
       "    </tr>\n",
       "    <tr>\n",
       "      <th>357</th>\n",
       "      <td>Arkansas</td>\n",
       "      <td>2958208</td>\n",
       "      <td>41935.63</td>\n",
       "      <td>Pacific</td>\n",
       "      <td>0.15</td>\n",
       "      <td>1451913</td>\n",
       "      <td>1506295.0</td>\n",
       "    </tr>\n",
       "    <tr>\n",
       "      <th>358</th>\n",
       "      <td>California</td>\n",
       "      <td>38421464</td>\n",
       "      <td>67264.78</td>\n",
       "      <td>Pacific</td>\n",
       "      <td>0.35</td>\n",
       "      <td>19087135</td>\n",
       "      <td>19334329.0</td>\n",
       "    </tr>\n",
       "  </tbody>\n",
       "</table>\n",
       "<p>290 rows × 7 columns</p>\n",
       "</div>"
      ],
      "text/plain": [
       "              State  TotalPop     Income      race PopPercentage   malePop  \\\n",
       "0      Rhode Island   1053661  59125.27   Hispanic         13.36    510388   \n",
       "1    South Carolina   4777576  46296.81   Hispanic          5.06   2322409   \n",
       "2      South Dakota    843190  51805.41   Hispanic          3.24    423477   \n",
       "3         Tennessee   6499615  47328.08   Hispanic          4.72   3167756   \n",
       "4             Texas  26538614  55874.52   Hispanic         38.05  13171316   \n",
       "..              ...       ...        ...       ...           ...       ...   \n",
       "354         Alabama   4830620  43296.36    Pacific          0.03   2341093   \n",
       "355          Alaska    733375  70354.74    Pacific          1.06    384160   \n",
       "356         Arizona   6641928  54207.82    Pacific          0.17   3299088   \n",
       "357        Arkansas   2958208  41935.63    Pacific          0.15   1451913   \n",
       "358      California  38421464  67264.78    Pacific          0.35  19087135   \n",
       "\n",
       "      femalePop  \n",
       "0      543273.0  \n",
       "1     2455167.0  \n",
       "2      419713.0  \n",
       "3     3331859.0  \n",
       "4    13367298.0  \n",
       "..          ...  \n",
       "354   2489527.0  \n",
       "355    349215.0  \n",
       "356   3342840.0  \n",
       "357   1506295.0  \n",
       "358  19334329.0  \n",
       "\n",
       "[290 rows x 7 columns]"
      ]
     },
     "execution_count": 105,
     "metadata": {},
     "output_type": "execute_result"
    }
   ],
   "source": [
    "reshaped_data"
   ]
  }
 ],
 "metadata": {
  "kernelspec": {
   "display_name": "deeplearning",
   "language": "python",
   "name": "python3"
  },
  "language_info": {
   "codemirror_mode": {
    "name": "ipython",
    "version": 3
   },
   "file_extension": ".py",
   "mimetype": "text/x-python",
   "name": "python",
   "nbconvert_exporter": "python",
   "pygments_lexer": "ipython3",
   "version": "3.12.9"
  }
 },
 "nbformat": 4,
 "nbformat_minor": 5
}
